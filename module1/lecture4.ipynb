{
 "cells": [
  {
   "cell_type": "code",
   "execution_count": 15,
   "metadata": {
    "collapsed": true,
    "ExecuteTime": {
     "end_time": "2023-10-17T08:33:59.657022Z",
     "start_time": "2023-10-17T08:33:59.631306Z"
    }
   },
   "outputs": [
    {
     "name": "stdout",
     "output_type": "stream",
     "text": [
      "[10, 20, 30, 40]\n"
     ]
    }
   ],
   "source": [
    "L = [10,20,30]\n",
    "W=L\n",
    "L.append(40)\n",
    "print(W)"
   ]
  },
  {
   "cell_type": "code",
   "execution_count": 16,
   "outputs": [
    {
     "name": "stdout",
     "output_type": "stream",
     "text": [
      "[10, 20, 30, 40]\n"
     ]
    }
   ],
   "source": [
    "L = L + [60]\n",
    "\n",
    "print(W)"
   ],
   "metadata": {
    "collapsed": false,
    "ExecuteTime": {
     "end_time": "2023-10-17T08:33:59.664074Z",
     "start_time": "2023-10-17T08:33:59.637559Z"
    }
   }
  },
  {
   "cell_type": "code",
   "execution_count": 17,
   "outputs": [],
   "source": [
    "# L = [10]\n",
    "# for e in L:    #infinite loop\n",
    "#     L.append(e)\n",
    "# print(L)"
   ],
   "metadata": {
    "collapsed": false,
    "ExecuteTime": {
     "end_time": "2023-10-17T08:33:59.690577Z",
     "start_time": "2023-10-17T08:33:59.641778Z"
    }
   }
  },
  {
   "cell_type": "markdown",
   "source": [
    "Comprehension:\n",
    "Can be done also with `map` function:"
   ],
   "metadata": {
    "collapsed": false
   }
  },
  {
   "cell_type": "code",
   "execution_count": 18,
   "outputs": [],
   "source": [
    "squares1 = list(map(lambda x: x**2, range(10)))"
   ],
   "metadata": {
    "collapsed": false
   }
  },
  {
   "cell_type": "code",
   "execution_count": null,
   "outputs": [],
   "source": [
    "squares2 = [x**2 for x in range(10)]\n",
    "print(squares1==squares2)"
   ],
   "metadata": {
    "collapsed": false,
    "is_executing": true
   }
  },
  {
   "cell_type": "code",
   "execution_count": null,
   "outputs": [],
   "source": [
    "L = [10]\n",
    "for e in L:\n",
    "    L = L + [e]\n",
    "print(L)"
   ],
   "metadata": {
    "collapsed": false,
    "is_executing": true
   }
  },
  {
   "cell_type": "markdown",
   "source": [
    "Given a unary function $f$ and a sequence S, return the list of the application of f to the element of S"
   ],
   "metadata": {
    "collapsed": false
   }
  },
  {
   "cell_type": "code",
   "execution_count": null,
   "outputs": [],
   "source": [
    "def image_f_through_S(f,S):\n",
    "    return [f(s) for s in S]\n",
    "S = [1,2,3,4]\n",
    "\n",
    "I = image_f_through_S(lambda x: x**2,S)\n",
    "print(I)"
   ],
   "metadata": {
    "collapsed": false,
    "is_executing": true
   }
  },
  {
   "cell_type": "markdown",
   "source": [
    "Given two sequences S1 and S2 return the list of the elements present in both S1 and S2 (don't bother about multiplicity: if e appears in both S1 and S2, maybe many times in S1, or in S2, or in both, it may appear with whatever multiplicity in the result)"
   ],
   "metadata": {
    "collapsed": false
   }
  },
  {
   "cell_type": "code",
   "execution_count": null,
   "outputs": [],
   "source": [
    "S1 = [1,2,3,4,5,6,7,7,8]\n",
    "S2 = [5,454,6,4,6,7,2,1,23]\n",
    "\n",
    "# S = [x for x in S1 if x in S2 ]\n",
    "S = [x for x in S2 if x in S1 ]\n",
    "S"
   ],
   "metadata": {
    "collapsed": false,
    "is_executing": true
   }
  },
  {
   "cell_type": "markdown",
   "source": [
    "Pythagorean triples: $(a,b,c)$ such that $a^2+b^2=c^2$, for $a+b+c \\le k$"
   ],
   "metadata": {
    "collapsed": false
   }
  },
  {
   "cell_type": "code",
   "execution_count": null,
   "outputs": [],
   "source": [
    "def pitagorean_triples(k):\n",
    "    return [(a,b,c) for a in range(1,k) for b in range(1,k) for c in range(1,k)  if a+b+c <= k if a**2+b**2 -c**2 == 0]\n",
    "pitagorean_triples(30)"
   ],
   "metadata": {
    "collapsed": false,
    "is_executing": true
   }
  },
  {
   "cell_type": "markdown",
   "source": [
    "Return the list of all the permutations of the elements of L; does not modify L"
   ],
   "metadata": {
    "collapsed": false
   }
  },
  {
   "cell_type": "code",
   "execution_count": null,
   "outputs": [],
   "source": [
    "# auxiliary function removing an element from L and returning the shrunk list\n",
    "def erase(e,L):\n",
    "    if e in L:\n",
    "        return [l for l in L if l != e]\n",
    "    else:\n",
    "        return ValueError\n",
    "\n",
    "# non-scalable solution\n",
    "def perm3(L):\n",
    "  return [[a,b,c] for a in L for b in erase(a,L)  for c in erase(b,erase(a,L))]\n",
    "\n",
    "perm3([1,2,3])"
   ],
   "metadata": {
    "collapsed": false,
    "is_executing": true
   }
  },
  {
   "cell_type": "markdown",
   "source": [
    "The permutations of L are obtained by taking as first element, any element of L, and taking then all the permutations of the remaining elements recursively."
   ],
   "metadata": {
    "collapsed": false
   }
  },
  {
   "cell_type": "code",
   "execution_count": 25,
   "outputs": [
    {
     "name": "stdout",
     "output_type": "stream",
     "text": [
      "[[1, 2, 3, 4], [1, 2, 4, 3], [1, 3, 2, 4], [1, 3, 4, 2], [1, 4, 2, 3], [1, 4, 3, 2], [2, 1, 3, 4], [2, 1, 4, 3], [2, 3, 1, 4], [2, 3, 4, 1], [2, 4, 1, 3], [2, 4, 3, 1], [3, 1, 2, 4], [3, 1, 4, 2], [3, 2, 1, 4], [3, 2, 4, 1], [3, 4, 1, 2], [3, 4, 2, 1], [4, 1, 2, 3], [4, 1, 3, 2], [4, 2, 1, 3], [4, 2, 3, 1], [4, 3, 1, 2], [4, 3, 2, 1]]\n"
     ]
    }
   ],
   "source": [
    "def perm(L):\n",
    "    if len(L) == 0:\n",
    "        return [[]]\n",
    "\n",
    "    return [[l] + p for l in L for p in perm(erase(l,L))]\n",
    "\n",
    "# Example usage:\n",
    "my_list = [1, 2, 3, 4]\n",
    "result = perm(my_list)\n",
    "print(result)"
   ],
   "metadata": {
    "collapsed": false,
    "ExecuteTime": {
     "end_time": "2023-10-17T08:34:00.197538Z",
     "start_time": "2023-10-17T08:34:00.190351Z"
    }
   }
  },
  {
   "cell_type": "code",
   "execution_count": 26,
   "outputs": [],
   "source": [
    "# seasons = ['Spring', 'Summer', 'Fall', 'Winter']\n",
    "# list(enumerate(seasons,start=3))"
   ],
   "metadata": {
    "collapsed": false,
    "ExecuteTime": {
     "end_time": "2023-10-17T08:34:00.199399Z",
     "start_time": "2023-10-17T08:34:00.197136Z"
    }
   }
  },
  {
   "cell_type": "code",
   "execution_count": 27,
   "outputs": [],
   "source": [
    "# def compare(s1,s2):\n",
    "#     return tuple(i for i, c in enumerate(s1) if c in s2[max(0, i - 1):min(i + 2, len(s2))])\n"
   ],
   "metadata": {
    "collapsed": false,
    "ExecuteTime": {
     "end_time": "2023-10-17T08:34:00.204475Z",
     "start_time": "2023-10-17T08:34:00.199560Z"
    }
   }
  },
  {
   "cell_type": "code",
   "execution_count": 18,
   "outputs": [
    {
     "name": "stdout",
     "output_type": "stream",
     "text": [
      "False\n",
      "a  97  A  65\n",
      "b  98  B  66\n",
      "c  99  C  67\n",
      "d  100  D  68\n",
      "e  101  E  69\n",
      "f  102  F  70\n",
      "g  103  G  71\n",
      "h  104  H  72\n",
      "i  105  I  73\n",
      "l  108  L  76\n",
      "m  109  M  77\n",
      "n  110  N  78\n",
      "o  111  O  79\n",
      "p  112  P  80\n",
      "q  113  Q  81\n",
      "r  114  R  82\n",
      "s  115  S  83\n",
      "t  116  T  84\n",
      "u  117  U  85\n",
      "v  118  V  86\n",
      "w  119  W  87\n",
      "x  120  X  88\n",
      "y  121  Y  89\n",
      "z  122  Z  90\n"
     ]
    }
   ],
   "source": [
    "# Unicode code points of the alphabet\n",
    "# lexicographical order checked by comparison operators through this code\n",
    "s = 'abcdefghilmnopqrstuvwxyz'\n",
    "for c in s:\n",
    "    C = c.upper()\n",
    "    print(c, ord(c), C, ord(C), sep='  ')    "
   ],
   "metadata": {
    "collapsed": false,
    "ExecuteTime": {
     "end_time": "2023-10-17T08:57:17.418933Z",
     "start_time": "2023-10-17T08:57:17.414801Z"
    }
   }
  },
  {
   "cell_type": "code",
   "execution_count": null,
   "outputs": [],
   "source": [
    "'''L: ordered list, in increasing order; insert el in L, in place'''\n",
    "def ins_ord(L,el): \n",
    "    # linear search\n",
    "    i=0\n",
    "    while i<len(L) and L[i]<el:\n",
    "        i = i+1\n",
    "    L.insert(i,el)  # equivalent: L[i:i]=[el]\n",
    "    return L\n",
    "\n",
    "def ins_ord_b(L,el):\n",
    "    # binary search\n",
    "    low=0\n",
    "    high=len(L)\n",
    "    while low<high:\n",
    "        med=(low+high)//2\n",
    "        if L[med]>el:\n",
    "            high=med\n",
    "        else:\n",
    "            low=med+1\n",
    "    L.insert(high,el)  # equivalent: L[high:high]=[el]\n",
    "    return L\n",
    "'''An inefficent solution:\n",
    "it solved the problem, but it costs more than the others.\n",
    "It append the element, then re-sort the list.\n",
    "Sorting costs more than a single scan of the list'''\n",
    "def ins_ord_L(L,el):\n",
    "    L.append(el)\n",
    "    L.sort()\n",
    "    return None"
   ],
   "metadata": {
    "collapsed": false
   }
  },
  {
   "cell_type": "code",
   "execution_count": 60,
   "outputs": [
    {
     "name": "stdout",
     "output_type": "stream",
     "text": [
      "1 \n",
      "\n",
      "2 3 \n",
      "\n",
      "4 5 6 \n",
      "\n",
      "7 8 9 10 \n",
      "\n",
      "11 12 13 14 15 \n"
     ]
    }
   ],
   "source": [
    "# Floyd triangle\n",
    "def print_row(low, high):\n",
    "    while low < high+1:\n",
    "        print(low, end=' ')\n",
    "        low +=1\n",
    "    print('\\n')\n",
    "    \n",
    "def floyd(n):\n",
    "    i = 1\n",
    "    max = 1\n",
    "    curr_ord = 1\n",
    "    while max <= n*(n+1)/2:\n",
    "        print_row(i,max)\n",
    "        i = max +1\n",
    "        max += curr_ord +1\n",
    "        curr_ord +=1\n",
    "floyd(5)"
   ],
   "metadata": {
    "collapsed": false,
    "ExecuteTime": {
     "end_time": "2023-10-17T10:44:39.730178Z",
     "start_time": "2023-10-17T10:44:39.722692Z"
    }
   }
  },
  {
   "cell_type": "markdown",
   "source": [
    "## Matrices\n",
    "Here a matrix is encoded as a built-in list where indeces start from zero\n"
   ],
   "metadata": {
    "collapsed": false
   }
  },
  {
   "cell_type": "code",
   "execution_count": 100,
   "outputs": [
    {
     "name": "stdout",
     "output_type": "stream",
     "text": [
      "True\n",
      "[[8, 12], [0, 0], [-8, 5]]\n"
     ]
    }
   ],
   "source": [
    "def is_sum_mat(A,B,S):\n",
    "    n_rows = len(A)\n",
    "    n_cols = len(A[0])\n",
    "    # A,B,S encoded as lists\n",
    "    # verify that S[i][j] = A[i][j] + B[i][j]\n",
    "    for i in range(n_rows): # rows\n",
    "        for j in range(n_cols): # cols\n",
    "            if S[i][j] != A[i][j] + B[i][j]:\n",
    "                return False\n",
    "    return True\n",
    "def sum_mat(A,B):\n",
    "    n_rows = len(A)\n",
    "    n_cols = len(A[0])\n",
    "    return [[A[i][j]+B[i][j] for j in range(n_cols)] for i in range(n_rows)]\n",
    "   \n",
    "A = [[7,9],\n",
    "     [5,3],\n",
    "     [1,2]]\n",
    "B = [[1,3],\n",
    "     [-5,-3],\n",
    "     [-9,3]]\n",
    "S = [[8,12],\n",
    "     [0,0],\n",
    "     [-8,5]]\n",
    "print(is_sum_mat(A,B,S))\n",
    "S = sum_mat(A,B)\n",
    "print(S)"
   ],
   "metadata": {
    "collapsed": false,
    "ExecuteTime": {
     "end_time": "2023-10-17T13:10:20.304926Z",
     "start_time": "2023-10-17T13:10:20.302452Z"
    }
   }
  },
  {
   "cell_type": "code",
   "execution_count": 102,
   "outputs": [
    {
     "name": "stdout",
     "output_type": "stream",
     "text": [
      "[[7, 5, 1], [9, 3, 2]]\n"
     ]
    }
   ],
   "source": [
    "def transp(A):\n",
    "    n_rows = len(A)\n",
    "    n_cols = len(A[0])\n",
    "    return [[A[j][i] for j in range(n_rows)] for i in range(n_cols)]\n",
    "\n",
    "A = [[7,9],\n",
    "     [5,3],\n",
    "     [1,2]]\n",
    "print(transp(A))"
   ],
   "metadata": {
    "collapsed": false,
    "ExecuteTime": {
     "end_time": "2023-10-17T13:14:16.484351Z",
     "start_time": "2023-10-17T13:14:16.476369Z"
    }
   }
  },
  {
   "cell_type": "code",
   "execution_count": 103,
   "outputs": [
    {
     "name": "stdout",
     "output_type": "stream",
     "text": [
      "14\n"
     ]
    }
   ],
   "source": [
    "# scalar (dot) product\n",
    "def dot_prod(x,y):\n",
    "    # x and y are two lists of the same length\n",
    "    return sum([x[i]*y[i] for i in range(len(x))])\n",
    "\n",
    "x = [1,2,3]\n",
    "y = [1,2,3]\n",
    "print(dot_prod(x,y))"
   ],
   "metadata": {
    "collapsed": false,
    "ExecuteTime": {
     "end_time": "2023-10-17T13:29:04.619330Z",
     "start_time": "2023-10-17T13:29:04.612112Z"
    }
   }
  },
  {
   "cell_type": "markdown",
   "source": [
    " Dot product between two matrices $A$ and $B$ (where the n_cols of $A$ is equal to n_rows of $B$ to be compatible) can be seen as the dot product of\n",
    "the rows of $A$ and the rows of $B^T$."
   ],
   "metadata": {
    "collapsed": false
   }
  },
  {
   "cell_type": "code",
   "execution_count": 113,
   "outputs": [
    {
     "name": "stdout",
     "output_type": "stream",
     "text": [
      "with numpy: \n",
      "[[-38  -6  16]\n",
      " [-10   6   8]\n",
      " [ -9  -3   3]]\n",
      "[[-38, -6, 16], [-10, 6, 8], [-9, -3, 3]]\n"
     ]
    }
   ],
   "source": [
    "# dot product between two matrices\n",
    "def dot_prod_mat(A,B):\n",
    "    return [[dot_prod(x,y) for y in transp(B)] for x in A ]\n",
    "\n",
    "\n",
    "A1 = [[7,9],\n",
    "     [5,3],\n",
    "     [1,2]]\n",
    "A2 = [[1,3,1],\n",
    "     [-5,-3,1]]\n",
    "import numpy as np\n",
    "A1_arr = np.array(A1)\n",
    "A2_arr = np.array(A2)\n",
    "print('with numpy: ',A1_arr@A2_arr,sep='\\n')\n",
    "print(dot_prod_mat(A1,A2))"
   ],
   "metadata": {
    "collapsed": false,
    "ExecuteTime": {
     "end_time": "2023-10-17T13:46:43.385580Z",
     "start_time": "2023-10-17T13:46:43.379538Z"
    }
   }
  }
 ],
 "metadata": {
  "kernelspec": {
   "display_name": "Python 3",
   "language": "python",
   "name": "python3"
  },
  "language_info": {
   "codemirror_mode": {
    "name": "ipython",
    "version": 2
   },
   "file_extension": ".py",
   "mimetype": "text/x-python",
   "name": "python",
   "nbconvert_exporter": "python",
   "pygments_lexer": "ipython2",
   "version": "2.7.6"
  }
 },
 "nbformat": 4,
 "nbformat_minor": 0
}
